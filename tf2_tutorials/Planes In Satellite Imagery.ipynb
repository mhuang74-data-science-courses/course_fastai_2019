{
 "cells": [
  {
   "cell_type": "markdown",
   "metadata": {},
   "source": [
    "## boilerplate imports"
   ]
  },
  {
   "cell_type": "code",
   "execution_count": 2,
   "metadata": {},
   "outputs": [],
   "source": [
    "import pandas as pd\n",
    "import matplotlib.pyplot as plt\n",
    "import seaborn as sns\n",
    "import numpy as np\n",
    "from scipy.stats import norm\n",
    "from sklearn.preprocessing import StandardScaler\n",
    "from scipy import stats\n",
    "from scipy import misc\n",
    "import warnings\n",
    "warnings.filterwarnings('ignore')\n",
    "%matplotlib inline\n",
    "\n",
    "import PIL"
   ]
  },
  {
   "cell_type": "markdown",
   "metadata": {},
   "source": [
    "## Download data "
   ]
  },
  {
   "cell_type": "code",
   "execution_count": 3,
   "metadata": {},
   "outputs": [],
   "source": [
    "IMAGE_ROOT = \"/home/jupyter/data/planes_satellite\"\n",
    "IMAGE_PATH = IMAGE_ROOT + \"/images\"\n",
    "\n",
    "DATA_BUNDLE_FILENAME = \"planesnet.zip\"\n",
    "DATA_IMAGES_FILENAME = \"planesnet.zip\""
   ]
  },
  {
   "cell_type": "code",
   "execution_count": 4,
   "metadata": {},
   "outputs": [],
   "source": [
    "!rm -rf $IMAGE_ROOT"
   ]
  },
  {
   "cell_type": "code",
   "execution_count": 5,
   "metadata": {},
   "outputs": [],
   "source": [
    "!mkdir -p $IMAGE_ROOT"
   ]
  },
  {
   "cell_type": "markdown",
   "metadata": {},
   "source": [
    "### get data from kaggle datasets"
   ]
  },
  {
   "cell_type": "markdown",
   "metadata": {},
   "source": [
    "For some reason can't download using Kaggle's \"Download\" link. So download via link beload and try to grab the latest cloud download link.\n",
    "\n",
    "https://www.kaggle.com/rhammell/planesnet/data"
   ]
  },
  {
   "cell_type": "markdown",
   "metadata": {},
   "source": [
    "!curl \"https://storage.googleapis.com/kaggle-datasets/1197/14776/planesnet.zip?GoogleAccessId=web-data@kaggle-161607.iam.gserviceaccount.com&Expires=1525696233&Signature=rd9YtBk1YAWdfDk%2BdS1HVxJbfCZoiYfv%2FTchAVcTRiobMubYp28xHVyN3aZdGeT3aWwhM9paEbnMgWwqcyww7rXV4gc8jrz9lozOdDKlllwBiwqrOSfvNOkxMhKhK8TmKalnD3GZJrL25TyGtxkoPbP4FLw7VSLHaDRqhrGLvLUzKKb%2FGAez%2BCGJ35CUAC6HK6Kmu5QcJqn2mfXRPZm0qLNQigvTzsUGGSzZwlKwF%2Fp1rlNvId3qc9A0Lau%2F7FDKb30zt%2BTzse8lpiD1yPdIK%2B6YC4XVccEYeXDGCwLkmav6XESk9z%2Fk%2B9aeWE9WsHdI5tbNlrHI0HMcZ6yWOIYXpw%3D%3D\" > $IMAGE_ROOT/$DATA_BUNDLE_FILENAME"
   ]
  },
  {
   "cell_type": "code",
   "execution_count": 6,
   "metadata": {},
   "outputs": [
    {
     "name": "stdout",
     "output_type": "stream",
     "text": [
      "Archive:  /home/jupyter/downloads/planesnet.zip\n",
      "  inflating: /home/jupyter/data/planes_satellite/planesnet.json  \n",
      "  inflating: /home/jupyter/data/planes_satellite/planesnet.zip  \n"
     ]
    }
   ],
   "source": [
    "!unzip -o /home/jupyter/downloads/$DATA_BUNDLE_FILENAME -d $IMAGE_ROOT"
   ]
  },
  {
   "cell_type": "code",
   "execution_count": 7,
   "metadata": {},
   "outputs": [
    {
     "name": "stdout",
     "output_type": "stream",
     "text": [
      "No errors detected in compressed data of /home/jupyter/data/planes_satellite/planesnet.zip.\n"
     ]
    }
   ],
   "source": [
    "!unzip -q -t $IMAGE_ROOT/$DATA_IMAGES_FILENAME"
   ]
  },
  {
   "cell_type": "code",
   "execution_count": 8,
   "metadata": {},
   "outputs": [],
   "source": [
    "!unzip -o -q -j $IMAGE_ROOT/$DATA_IMAGES_FILENAME -d $IMAGE_PATH"
   ]
  },
  {
   "cell_type": "code",
   "execution_count": 9,
   "metadata": {
    "scrolled": false
   },
   "outputs": [
    {
     "name": "stdout",
     "output_type": "stream",
     "text": [
      "total 128000\n",
      "-rw-r--r-- 1 jupyter jupyter  906 Jan 21  2018 1__20170729_175335_101d__-118.40592455007884_33.93955085537867.png\n",
      "-rw-r--r-- 1 jupyter jupyter  764 Jan 21  2018 1__20170729_175107_1036__-118.41833221627427_33.940172226013956.png\n",
      "-rw-r--r-- 1 jupyter jupyter  804 Jan 21  2018 1__20170728_180813_1039__-121.58701779603875_38.694769242571724.png\n",
      "-rw-r--r-- 1 jupyter jupyter  789 Jan 21  2018 1__20170728_175003_102a__-118.4037708318591_33.941100279947925.png\n",
      "-rw-r--r-- 1 jupyter jupyter  863 Jan 21  2018 1__20170728_175002_102a__-118.40332877746077_33.94671287238693.png\n",
      "-rw-r--r-- 1 jupyter jupyter  914 Jan 21  2018 1__20170727_175114_0f3f__-118.40323269335445_33.946344345012726.png\n",
      "-rw-r--r-- 1 jupyter jupyter  929 Jan 21  2018 1__20170727_175114_0f3f__-118.38581188623972_33.93494470621571.png\n",
      "-rw-r--r-- 1 jupyter jupyter  709 Jan 21  2018 1__20170726_180807_1022__-122.38824470631792_37.61969954191162.png\n",
      "-rw-r--r-- 1 jupyter jupyter  841 Jan 21  2018 1__20170726_174854_0f10__-117.8611940333088_33.68107837904123.png\n",
      "ls: write error: Broken pipe\n"
     ]
    }
   ],
   "source": [
    "!ls -ltr $IMAGE_PATH | head"
   ]
  },
  {
   "cell_type": "markdown",
   "metadata": {},
   "source": [
    "## split images into train and validate using using sklearn"
   ]
  },
  {
   "cell_type": "code",
   "execution_count": 10,
   "metadata": {},
   "outputs": [],
   "source": [
    "import shutil\n",
    "import glob\n",
    "import os.path as path\n",
    "from sklearn.model_selection import train_test_split\n",
    "\n"
   ]
  },
  {
   "cell_type": "code",
   "execution_count": 11,
   "metadata": {},
   "outputs": [],
   "source": [
    "!rm -rf $IMAGE_PATH/train $IMAGE_PATH/valid $IMAGE_PATH/test"
   ]
  },
  {
   "cell_type": "markdown",
   "metadata": {},
   "source": [
    "### split negative images first"
   ]
  },
  {
   "cell_type": "code",
   "execution_count": 12,
   "metadata": {},
   "outputs": [],
   "source": [
    "# reserve some files for testing\n",
    "TEST_RATIO = 0.05"
   ]
  },
  {
   "cell_type": "code",
   "execution_count": 13,
   "metadata": {
    "scrolled": true
   },
   "outputs": [],
   "source": [
    "!mkdir -p $IMAGE_PATH/train/0 $IMAGE_PATH/test/0\n",
    "\n",
    "# load negave images which always start with \"0_\"\n",
    "\n",
    "X_neg = y_neg = glob.glob(path.join(IMAGE_PATH, '0_*.png'))\n",
    "X_neg_train, X_neg_test, y_neg_train, y_neg_test = train_test_split(X_neg, y_neg, test_size=TEST_RATIO, random_state=None)\n",
    "\n",
    "# train\n",
    "\n",
    "for x in X_neg_train:\n",
    "    \n",
    "    try:\n",
    "        shutil.move(x, IMAGE_PATH + \"/train/0\")\n",
    "    except OSError as err: \n",
    "        print(\"Error '{}' when moving file {} to target dir {}\".format(err, x, target_dir))\n",
    "\n",
    "# test\n",
    "\n",
    "for x in X_neg_test:\n",
    "    \n",
    "    try:\n",
    "        shutil.move(x, IMAGE_PATH + \"/test/0\")\n",
    "    except OSError as err: \n",
    "        print(\"Error '{}' when moving file {} to target dir {}\".format(err, x, target_dir))\n",
    "        \n"
   ]
  },
  {
   "cell_type": "markdown",
   "metadata": {},
   "source": [
    "### then split positive images "
   ]
  },
  {
   "cell_type": "code",
   "execution_count": 14,
   "metadata": {},
   "outputs": [],
   "source": [
    "!mkdir -p $IMAGE_PATH/train/1 $IMAGE_PATH/test/1\n",
    "\n",
    "# load positive images which always start with \"1_\"\n",
    "\n",
    "X_pos = y_pos = glob.glob(path.join(IMAGE_PATH, '1_*.png'))\n",
    "X_pos_train, X_pos_test, y_pos_train, y_pos_test = train_test_split(X_pos, y_pos, test_size=TEST_RATIO, random_state=None)\n",
    "\n",
    "# train\n",
    "\n",
    "for x in X_pos_train:\n",
    "    \n",
    "    try:\n",
    "        shutil.move(x, IMAGE_PATH + \"/train/1\")\n",
    "    except OSError as err: \n",
    "        print(\"Error '{}' when moving file {} to target dir {}\".format(err, x, target_dir))\n",
    "\n",
    "# test\n",
    "\n",
    "for x in X_pos_test:\n",
    "    \n",
    "    try:\n",
    "        shutil.move(x, IMAGE_PATH + \"/test/1\")\n",
    "    except OSError as err: \n",
    "        print(\"Error '{}' when moving file {} to target dir {}\".format(err, x, target_dir))"
   ]
  },
  {
   "cell_type": "markdown",
   "metadata": {},
   "source": [
    "## create CNN model"
   ]
  },
  {
   "cell_type": "code",
   "execution_count": 15,
   "metadata": {},
   "outputs": [],
   "source": [
    "# imports\n",
    "\n",
    "import tensorflow as tf\n",
    "\n",
    "from tensorflow.keras.models import Sequential\n",
    "from tensorflow.keras.layers import Dense, Flatten, Conv2D, MaxPooling2D, Activation, Dropout, InputLayer, BatchNormalization\n",
    "from tensorflow.keras.optimizers import RMSprop, Adam\n",
    "from tensorflow.keras import utils\n",
    "from tensorflow.keras import initializers\n",
    "from tensorflow.keras import backend as K\n",
    "from tensorflow.keras.callbacks import TensorBoard\n",
    "from tensorflow.keras.preprocessing import image\n",
    "from tensorflow.keras.callbacks import EarlyStopping\n",
    "from tensorflow.keras.callbacks import TensorBoard\n",
    "from tensorflow.keras.callbacks import ModelCheckpoint\n",
    "\n",
    "import time"
   ]
  },
  {
   "cell_type": "markdown",
   "metadata": {},
   "source": [
    "### model params"
   ]
  },
  {
   "cell_type": "code",
   "execution_count": 16,
   "metadata": {},
   "outputs": [],
   "source": [
    "pool_size = (2, 2)                    # size of poolin area for max pooling\n",
    "prob_drop_conv = 0.25                  # drop probability for dropout @ conv layer\n",
    "prob_drop_hidden = 0.5                # drop probability for dropout @ fc layer\n",
    "image_shape=(20,20,3)"
   ]
  },
  {
   "cell_type": "code",
   "execution_count": 17,
   "metadata": {
    "scrolled": false
   },
   "outputs": [
    {
     "name": "stdout",
     "output_type": "stream",
     "text": [
      "Model: \"sequential\"\n",
      "_________________________________________________________________\n",
      "Layer (type)                 Output Shape              Param #   \n",
      "=================================================================\n",
      "batch_normalization_v2 (Batc (None, 20, 20, 3)         12        \n",
      "_________________________________________________________________\n",
      "conv2d (Conv2D)              (None, 18, 18, 32)        896       \n",
      "_________________________________________________________________\n",
      "activation (Activation)      (None, 18, 18, 32)        0         \n",
      "_________________________________________________________________\n",
      "max_pooling2d (MaxPooling2D) (None, 9, 9, 32)          0         \n",
      "_________________________________________________________________\n",
      "dropout (Dropout)            (None, 9, 9, 32)          0         \n",
      "_________________________________________________________________\n",
      "conv2d_1 (Conv2D)            (None, 7, 7, 64)          18496     \n",
      "_________________________________________________________________\n",
      "activation_1 (Activation)    (None, 7, 7, 64)          0         \n",
      "_________________________________________________________________\n",
      "dropout_1 (Dropout)          (None, 7, 7, 64)          0         \n",
      "_________________________________________________________________\n",
      "conv2d_2 (Conv2D)            (None, 5, 5, 128)         73856     \n",
      "_________________________________________________________________\n",
      "activation_2 (Activation)    (None, 5, 5, 128)         0         \n",
      "_________________________________________________________________\n",
      "max_pooling2d_1 (MaxPooling2 (None, 3, 3, 128)         0         \n",
      "_________________________________________________________________\n",
      "flatten (Flatten)            (None, 1152)              0         \n",
      "_________________________________________________________________\n",
      "dropout_2 (Dropout)          (None, 1152)              0         \n",
      "_________________________________________________________________\n",
      "dense (Dense)                (None, 2)                 2306      \n",
      "_________________________________________________________________\n",
      "activation_3 (Activation)    (None, 2)                 0         \n",
      "=================================================================\n",
      "Total params: 95,566\n",
      "Trainable params: 95,560\n",
      "Non-trainable params: 6\n",
      "_________________________________________________________________\n"
     ]
    }
   ],
   "source": [
    "model = Sequential()\n",
    "\n",
    "# input layer\n",
    "model.add(InputLayer(input_shape=image_shape))\n",
    "\n",
    "# batch normalization\n",
    "model.add(BatchNormalization())\n",
    "\n",
    "# conv1 layer\n",
    "model.add(Conv2D(32, (3,3), padding='valid', kernel_initializer='random_normal'))\n",
    "model.add(Activation('relu'))\n",
    "model.add(MaxPooling2D(pool_size=pool_size, strides=(2, 2), padding='same'))\n",
    "model.add(Dropout(prob_drop_conv))\n",
    "\n",
    "# conv2 layer\n",
    "model.add(Conv2D(64, (3,3), padding='valid', kernel_initializer='random_normal'))\n",
    "model.add(Activation('relu'))\n",
    "# model.add(MaxPooling2D(pool_size=pool_size, strides=(2, 2), padding='same'))\n",
    "model.add(Dropout(prob_drop_conv))\n",
    "\n",
    "# conv3 layer\n",
    "model.add(Conv2D(128, (3,3), padding='valid', kernel_initializer='random_normal'))\n",
    "model.add(Activation('relu'))\n",
    "\n",
    "# max pooling and flatten\n",
    "model.add(MaxPooling2D(pool_size=pool_size, strides=(2, 2), padding='same'))\n",
    "model.add(Flatten())\n",
    "model.add(Dropout(prob_drop_conv))\n",
    "\n",
    "# fc1 layer\n",
    "# what \"units\" values work best here ??\n",
    "# model.add(Dense(units=60, kernel_initializer='random_normal'))\n",
    "# model.add(Activation('relu'))\n",
    "# model.add(Dropout(prob_drop_hidden))\n",
    "\n",
    "# fc2 layer\n",
    "model.add(Dense(units=2, kernel_initializer='random_normal'))\n",
    "model.add(Activation('sigmoid'))\n",
    "\n",
    "rms = RMSprop(lr=0.001, rho=0.9)\n",
    "adam = Adam(lr=0.001)\n",
    "          \n",
    "model.compile(optimizer=adam, loss='binary_crossentropy', metrics=['binary_accuracy'])\n",
    "model.summary()"
   ]
  },
  {
   "cell_type": "markdown",
   "metadata": {},
   "source": [
    "##  set up data generators using Keras Image Generator"
   ]
  },
  {
   "cell_type": "markdown",
   "metadata": {},
   "source": [
    "### training parameters"
   ]
  },
  {
   "cell_type": "code",
   "execution_count": 18,
   "metadata": {},
   "outputs": [],
   "source": [
    "BATCH_SIZE=32\n",
    "VALIDATION_SPLIT=0.20\n",
    "EPOCHS=300"
   ]
  },
  {
   "cell_type": "markdown",
   "metadata": {},
   "source": [
    "### training and validation data generator"
   ]
  },
  {
   "cell_type": "code",
   "execution_count": 19,
   "metadata": {},
   "outputs": [
    {
     "name": "stdout",
     "output_type": "stream",
     "text": [
      "Found 24320 images belonging to 2 classes.\n",
      "Found 6080 images belonging to 2 classes.\n"
     ]
    }
   ],
   "source": [
    "\n",
    "\n",
    "IMAGE_SIZE=(20,20)\n",
    "\n",
    "train_datagen = image.ImageDataGenerator(\n",
    "    rescale=1./255,\n",
    "    validation_split=VALIDATION_SPLIT,\n",
    "    rotation_range=90.0,\n",
    "    width_shift_range=0.0,\n",
    "    height_shift_range=0.0,\n",
    "    shear_range=0.0,\n",
    "    zoom_range=0.0,\n",
    "    horizontal_flip=True,\n",
    "    vertical_flip=True,\n",
    "    fill_mode='nearest',    \n",
    "    )\n",
    "\n",
    "train_generator = train_datagen.flow_from_directory(\n",
    "    IMAGE_PATH + \"/train\",\n",
    "    target_size=IMAGE_SIZE,\n",
    "    color_mode=\"rgb\",\n",
    "    batch_size=BATCH_SIZE,\n",
    "    class_mode='categorical',\n",
    "    subset='training',\n",
    "#    save_to_dir='/home/mhuang/augmented_images',\n",
    "#    save_prefix='aug-'\n",
    "    )\n",
    "\n",
    "valid_generator = train_datagen.flow_from_directory(\n",
    "    IMAGE_PATH + \"/train\",\n",
    "    target_size=IMAGE_SIZE,\n",
    "    color_mode=\"rgb\",\n",
    "    batch_size=BATCH_SIZE,\n",
    "    class_mode='categorical',\n",
    "    subset='validation'\n",
    "    )\n"
   ]
  },
  {
   "cell_type": "markdown",
   "metadata": {},
   "source": [
    "### evaluation data generator"
   ]
  },
  {
   "cell_type": "code",
   "execution_count": 20,
   "metadata": {},
   "outputs": [
    {
     "name": "stdout",
     "output_type": "stream",
     "text": [
      "Found 1600 images belonging to 2 classes.\n"
     ]
    }
   ],
   "source": [
    "test_datagen = image.ImageDataGenerator(\n",
    "    rescale=1./255,\n",
    "    )\n",
    "\n",
    "test_generator = test_datagen.flow_from_directory(\n",
    "    IMAGE_PATH + \"/test\",\n",
    "    target_size=IMAGE_SIZE,\n",
    "    color_mode=\"rgb\",\n",
    "    batch_size=BATCH_SIZE,\n",
    "    class_mode='categorical',\n",
    "    )\n",
    "\n"
   ]
  },
  {
   "cell_type": "markdown",
   "metadata": {},
   "source": [
    "## plot a few images"
   ]
  },
  {
   "cell_type": "code",
   "execution_count": 21,
   "metadata": {},
   "outputs": [],
   "source": [
    "def plots(ims, figsize=(12,8), dpi=96, rows=1, interp=False, titles=None, main_title=\"Diagram\"):\n",
    "    f = plt.figure(figsize=figsize, dpi=dpi)\n",
    "    plt.title(main_title)\n",
    "    plt.axis('off')\n",
    "    for i in range(len(ims)):\n",
    "        sp = f.add_subplot(rows, len(ims)//rows, i+1)\n",
    "        if titles is not None:\n",
    "            sp.set_title(titles[i], fontsize=10)\n",
    "        plt.imshow(ims[i], interpolation=None if interp else 'none', cmap='gray')\n",
    "        plt.axis('off')"
   ]
  },
  {
   "cell_type": "code",
   "execution_count": 22,
   "metadata": {},
   "outputs": [
    {
     "name": "stdout",
     "output_type": "stream",
     "text": [
      "0 (32, 20, 20, 3)\n"
     ]
    },
    {
     "data": {
      "image/png": "[encoded data removed]",
      "text/plain": [
       "<Figure size 1152x768 with 33 Axes>"
      ]
     },
     "metadata": {
      "needs_background": "light"
     },
     "output_type": "display_data"
    }
   ],
   "source": [
    "batches=0\n",
    "\n",
    "for x_batch, y_batch in train_generator:\n",
    "    print(batches, x_batch.shape)\n",
    "    label_id = y_batch.argmax(axis=1)\n",
    "    #label_id = y_batch\n",
    "    \n",
    "    #num_to_dump = 2\n",
    "    #print(batches, x_batch[:num_to_dump,:,:,:])\n",
    "    #print(batches, label_id[:num_to_dump])\n",
    "\n",
    "    plots(x_batch, titles=label_id, rows=4, main_title=\"Labeled Training Data\")\n",
    "    batches += 1\n",
    "    if batches >= 1:\n",
    "        break"
   ]
  },
  {
   "cell_type": "markdown",
   "metadata": {},
   "source": [
    "## train model"
   ]
  },
  {
   "cell_type": "markdown",
   "metadata": {},
   "source": [
    "### early stop callback"
   ]
  },
  {
   "cell_type": "code",
   "execution_count": 23,
   "metadata": {},
   "outputs": [],
   "source": [
    "\n",
    "\n",
    "PATIENCE = 30\n",
    "\n",
    "early_stopping_calllback = EarlyStopping(monitor='val_loss', min_delta=0, patience=PATIENCE, verbose=1, mode='auto')"
   ]
  },
  {
   "cell_type": "markdown",
   "metadata": {},
   "source": [
    "### tensorboard callback"
   ]
  },
  {
   "cell_type": "code",
   "execution_count": 24,
   "metadata": {},
   "outputs": [
    {
     "name": "stdout",
     "output_type": "stream",
     "text": [
      "tensorboard log path: /home/jupyter/tensorboard_logs/tutorial/planes_satellite/20190601-153752\n"
     ]
    }
   ],
   "source": [
    "\n",
    "\n",
    "timestamp = time.strftime(\"%Y%m%d-%H%M%S\")\n",
    "log_dir = '/home/jupyter/tensorboard_logs/tutorial/planes_satellite/' + timestamp\n",
    "print(\"tensorboard log path: {}\".format(log_dir))\n",
    "\n",
    "tensorboard_callback = TensorBoard(log_dir=log_dir, histogram_freq=0, write_graph=True, write_images=True)"
   ]
  },
  {
   "cell_type": "markdown",
   "metadata": {},
   "source": [
    "### model checkpoint callback"
   ]
  },
  {
   "cell_type": "code",
   "execution_count": 25,
   "metadata": {},
   "outputs": [],
   "source": [
    "\n",
    "\n",
    "checkpoint_root = '/home/jupyter/model_checkpoints/planes_satellite'\n",
    "checkpoint_filename = 'weights.{epoch:02d}-{val_loss:.4f}.hdf5'\n",
    "checkpoint_filepath = checkpoint_root + '/' + checkpoint_filename\n",
    "\n",
    "!mkdir -p $checkpoint_root\n",
    "\n",
    "model_checkpoint_callback = ModelCheckpoint(checkpoint_filepath, save_best_only=True, period=1, verbose=1)"
   ]
  },
  {
   "cell_type": "markdown",
   "metadata": {},
   "source": [
    "### << TRAINING MODEL >> "
   ]
  },
  {
   "cell_type": "code",
   "execution_count": null,
   "metadata": {},
   "outputs": [
    {
     "name": "stdout",
     "output_type": "stream",
     "text": [
      "Epoch 1/300\n",
      "  1/760 [..............................] - ETA: 3:45:03 - loss: 0.7424 - binary_accuracy: 0.5156"
     ]
    },
    {
     "name": "stderr",
     "output_type": "stream",
     "text": [
      "WARNING: Logging before flag parsing goes to stderr.\n",
      "W0601 15:38:22.291094 139931412813568 callbacks.py:236] Method (on_train_batch_end) is slow compared to the batch update (0.235888). Check your callbacks.\n"
     ]
    },
    {
     "name": "stdout",
     "output_type": "stream",
     "text": [
      "759/760 [============================>.] - ETA: 0s - loss: 0.2620 - binary_accuracy: 0.8895\n",
      "Epoch 00001: val_loss improved from inf to 0.24607, saving model to /home/jupyter/model_checkpoints/planes_satellite/weights.01-0.2461.hdf5\n",
      "760/760 [==============================] - 39s 51ms/step - loss: 0.2619 - binary_accuracy: 0.8896 - val_loss: 0.2461 - val_binary_accuracy: 0.9086\n",
      "Epoch 2/300\n",
      "759/760 [============================>.] - ETA: 0s - loss: 0.1824 - binary_accuracy: 0.9262\n",
      "Epoch 00002: val_loss improved from 0.24607 to 0.16861, saving model to /home/jupyter/model_checkpoints/planes_satellite/weights.02-0.1686.hdf5\n",
      "760/760 [==============================] - 21s 27ms/step - loss: 0.1823 - binary_accuracy: 0.9263 - val_loss: 0.1686 - val_binary_accuracy: 0.9508\n",
      "Epoch 3/300\n",
      "757/760 [============================>.] - ETA: 0s - loss: 0.1561 - binary_accuracy: 0.9398\n",
      "Epoch 00003: val_loss improved from 0.16861 to 0.13856, saving model to /home/jupyter/model_checkpoints/planes_satellite/weights.03-0.1386.hdf5\n",
      "760/760 [==============================] - 20s 27ms/step - loss: 0.1560 - binary_accuracy: 0.9397 - val_loss: 0.1386 - val_binary_accuracy: 0.9564\n",
      "Epoch 4/300\n",
      "757/760 [============================>.] - ETA: 0s - loss: 0.1390 - binary_accuracy: 0.9445\n",
      "Epoch 00004: val_loss did not improve from 0.13856\n",
      "760/760 [==============================] - 21s 27ms/step - loss: 0.1390 - binary_accuracy: 0.9444 - val_loss: 0.1422 - val_binary_accuracy: 0.9539\n",
      "Epoch 5/300\n",
      "757/760 [============================>.] - ETA: 0s - loss: 0.1265 - binary_accuracy: 0.9482\n",
      "Epoch 00005: val_loss improved from 0.13856 to 0.09969, saving model to /home/jupyter/model_checkpoints/planes_satellite/weights.05-0.0997.hdf5\n",
      "760/760 [==============================] - 20s 26ms/step - loss: 0.1264 - binary_accuracy: 0.9482 - val_loss: 0.0997 - val_binary_accuracy: 0.9688\n",
      "Epoch 6/300\n",
      "758/760 [============================>.] - ETA: 0s - loss: 0.1184 - binary_accuracy: 0.9530\n",
      "Epoch 00006: val_loss did not improve from 0.09969\n",
      "760/760 [==============================] - 21s 28ms/step - loss: 0.1185 - binary_accuracy: 0.9529 - val_loss: 0.1023 - val_binary_accuracy: 0.9650\n",
      "Epoch 7/300\n",
      "759/760 [============================>.] - ETA: 0s - loss: 0.1175 - binary_accuracy: 0.9551\n",
      "Epoch 00007: val_loss improved from 0.09969 to 0.08679, saving model to /home/jupyter/model_checkpoints/planes_satellite/weights.07-0.0868.hdf5\n",
      "760/760 [==============================] - 21s 28ms/step - loss: 0.1174 - binary_accuracy: 0.9550 - val_loss: 0.0868 - val_binary_accuracy: 0.9737\n",
      "Epoch 8/300\n",
      "757/760 [============================>.] - ETA: 0s - loss: 0.1147 - binary_accuracy: 0.9542\n",
      "Epoch 00008: val_loss did not improve from 0.08679\n",
      "760/760 [==============================] - 21s 28ms/step - loss: 0.1145 - binary_accuracy: 0.9543 - val_loss: 0.1024 - val_binary_accuracy: 0.9671\n",
      "Epoch 9/300\n",
      "757/760 [============================>.] - ETA: 0s - loss: 0.1116 - binary_accuracy: 0.9576\n",
      "Epoch 00009: val_loss did not improve from 0.08679\n",
      "760/760 [==============================] - 21s 27ms/step - loss: 0.1117 - binary_accuracy: 0.9575 - val_loss: 0.0983 - val_binary_accuracy: 0.9706\n",
      "Epoch 10/300\n",
      "759/760 [============================>.] - ETA: 0s - loss: 0.1094 - binary_accuracy: 0.9575\n",
      "Epoch 00010: val_loss did not improve from 0.08679\n",
      "760/760 [==============================] - 20s 26ms/step - loss: 0.1093 - binary_accuracy: 0.9576 - val_loss: 0.0916 - val_binary_accuracy: 0.9737\n",
      "Epoch 11/300\n",
      "759/760 [============================>.] - ETA: 0s - loss: 0.1051 - binary_accuracy: 0.9586\n",
      "Epoch 00011: val_loss did not improve from 0.08679\n",
      "760/760 [==============================] - 20s 27ms/step - loss: 0.1051 - binary_accuracy: 0.9586 - val_loss: 0.0905 - val_binary_accuracy: 0.9710\n",
      "Epoch 12/300\n",
      "758/760 [============================>.] - ETA: 0s - loss: 0.1016 - binary_accuracy: 0.9616\n",
      "Epoch 00012: val_loss improved from 0.08679 to 0.08435, saving model to /home/jupyter/model_checkpoints/planes_satellite/weights.12-0.0843.hdf5\n",
      "760/760 [==============================] - 22s 30ms/step - loss: 0.1016 - binary_accuracy: 0.9616 - val_loss: 0.0843 - val_binary_accuracy: 0.9743\n",
      "Epoch 13/300\n",
      "758/760 [============================>.] - ETA: 0s - loss: 0.1006 - binary_accuracy: 0.9617\n",
      "Epoch 00013: val_loss did not improve from 0.08435\n",
      "760/760 [==============================] - 22s 29ms/step - loss: 0.1005 - binary_accuracy: 0.9618 - val_loss: 0.0902 - val_binary_accuracy: 0.9729\n",
      "Epoch 14/300\n",
      "759/760 [============================>.] - ETA: 0s - loss: 0.1017 - binary_accuracy: 0.9608\n",
      "Epoch 00014: val_loss improved from 0.08435 to 0.08003, saving model to /home/jupyter/model_checkpoints/planes_satellite/weights.14-0.0800.hdf5\n",
      "760/760 [==============================] - 22s 28ms/step - loss: 0.1019 - binary_accuracy: 0.9608 - val_loss: 0.0800 - val_binary_accuracy: 0.9748\n",
      "Epoch 15/300\n",
      "758/760 [============================>.] - ETA: 0s - loss: 0.0977 - binary_accuracy: 0.9624\n",
      "Epoch 00015: val_loss did not improve from 0.08003\n",
      "760/760 [==============================] - 20s 27ms/step - loss: 0.0976 - binary_accuracy: 0.9624 - val_loss: 0.0832 - val_binary_accuracy: 0.9717\n",
      "Epoch 16/300\n",
      "759/760 [============================>.] - ETA: 0s - loss: 0.0996 - binary_accuracy: 0.9604\n",
      "Epoch 00016: val_loss improved from 0.08003 to 0.07871, saving model to /home/jupyter/model_checkpoints/planes_satellite/weights.16-0.0787.hdf5\n",
      "760/760 [==============================] - 20s 27ms/step - loss: 0.0995 - binary_accuracy: 0.9605 - val_loss: 0.0787 - val_binary_accuracy: 0.9768\n",
      "Epoch 17/300\n",
      "757/760 [============================>.] - ETA: 0s - loss: 0.0925 - binary_accuracy: 0.9646\n",
      "Epoch 00017: val_loss did not improve from 0.07871\n",
      "760/760 [==============================] - 22s 29ms/step - loss: 0.0926 - binary_accuracy: 0.9645 - val_loss: 0.1062 - val_binary_accuracy: 0.9636\n",
      "Epoch 18/300\n",
      "759/760 [============================>.] - ETA: 0s - loss: 0.0947 - binary_accuracy: 0.9658\n",
      "Epoch 00018: val_loss improved from 0.07871 to 0.07459, saving model to /home/jupyter/model_checkpoints/planes_satellite/weights.18-0.0746.hdf5\n",
      "760/760 [==============================] - 22s 29ms/step - loss: 0.0946 - binary_accuracy: 0.9658 - val_loss: 0.0746 - val_binary_accuracy: 0.9785\n",
      "Epoch 19/300\n",
      "758/760 [============================>.] - ETA: 0s - loss: 0.0924 - binary_accuracy: 0.9655\n",
      "Epoch 00019: val_loss did not improve from 0.07459\n",
      "760/760 [==============================] - 22s 29ms/step - loss: 0.0928 - binary_accuracy: 0.9653 - val_loss: 0.0935 - val_binary_accuracy: 0.9695\n",
      "Epoch 20/300\n",
      "757/760 [============================>.] - ETA: 0s - loss: 0.0893 - binary_accuracy: 0.9658\n",
      "Epoch 00020: val_loss did not improve from 0.07459\n",
      "760/760 [==============================] - 22s 29ms/step - loss: 0.0895 - binary_accuracy: 0.9658 - val_loss: 0.1323 - val_binary_accuracy: 0.9453\n",
      "Epoch 21/300\n",
      "758/760 [============================>.] - ETA: 0s - loss: 0.0947 - binary_accuracy: 0.9641\n",
      "Epoch 00021: val_loss did not improve from 0.07459\n",
      "760/760 [==============================] - 22s 29ms/step - loss: 0.0947 - binary_accuracy: 0.9641 - val_loss: 0.0773 - val_binary_accuracy: 0.9725\n",
      "Epoch 22/300\n",
      "759/760 [============================>.] - ETA: 0s - loss: 0.0916 - binary_accuracy: 0.9661\n",
      "Epoch 00022: val_loss did not improve from 0.07459\n",
      "760/760 [==============================] - 21s 28ms/step - loss: 0.0915 - binary_accuracy: 0.9661 - val_loss: 0.0797 - val_binary_accuracy: 0.9714\n",
      "Epoch 23/300\n",
      "759/760 [============================>.] - ETA: 0s - loss: 0.0899 - binary_accuracy: 0.9670\n",
      "Epoch 00023: val_loss improved from 0.07459 to 0.06586, saving model to /home/jupyter/model_checkpoints/planes_satellite/weights.23-0.0659.hdf5\n",
      "760/760 [==============================] - 21s 28ms/step - loss: 0.0898 - binary_accuracy: 0.9670 - val_loss: 0.0659 - val_binary_accuracy: 0.9797\n",
      "Epoch 24/300\n",
      "758/760 [============================>.] - ETA: 0s - loss: 0.0864 - binary_accuracy: 0.9676\n",
      "Epoch 00024: val_loss improved from 0.06586 to 0.06489, saving model to /home/jupyter/model_checkpoints/planes_satellite/weights.24-0.0649.hdf5\n",
      "760/760 [==============================] - 21s 28ms/step - loss: 0.0867 - binary_accuracy: 0.9675 - val_loss: 0.0649 - val_binary_accuracy: 0.9819\n",
      "Epoch 25/300\n",
      "758/760 [============================>.] - ETA: 0s - loss: 0.0861 - binary_accuracy: 0.9676\n",
      "Epoch 00025: val_loss did not improve from 0.06489\n",
      "760/760 [==============================] - 21s 28ms/step - loss: 0.0861 - binary_accuracy: 0.9676 - val_loss: 0.0691 - val_binary_accuracy: 0.9763\n",
      "Epoch 26/300\n",
      "759/760 [============================>.] - ETA: 0s - loss: 0.0843 - binary_accuracy: 0.9678\n",
      "Epoch 00026: val_loss did not improve from 0.06489\n",
      "760/760 [==============================] - 21s 28ms/step - loss: 0.0845 - binary_accuracy: 0.9677 - val_loss: 0.0651 - val_binary_accuracy: 0.9777\n",
      "Epoch 27/300\n",
      "759/760 [============================>.] - ETA: 0s - loss: 0.0862 - binary_accuracy: 0.9678\n",
      "Epoch 00027: val_loss improved from 0.06489 to 0.06275, saving model to /home/jupyter/model_checkpoints/planes_satellite/weights.27-0.0628.hdf5\n",
      "760/760 [==============================] - 21s 28ms/step - loss: 0.0861 - binary_accuracy: 0.9679 - val_loss: 0.0628 - val_binary_accuracy: 0.9799\n",
      "Epoch 28/300\n",
      "758/760 [============================>.] - ETA: 0s - loss: 0.0861 - binary_accuracy: 0.9679\n",
      "Epoch 00028: val_loss did not improve from 0.06275\n",
      "760/760 [==============================] - 22s 29ms/step - loss: 0.0862 - binary_accuracy: 0.9679 - val_loss: 0.0670 - val_binary_accuracy: 0.9796\n",
      "Epoch 29/300\n",
      "758/760 [============================>.] - ETA: 0s - loss: 0.0850 - binary_accuracy: 0.9677\n",
      "Epoch 00029: val_loss improved from 0.06275 to 0.05579, saving model to /home/jupyter/model_checkpoints/planes_satellite/weights.29-0.0558.hdf5\n",
      "760/760 [==============================] - 22s 29ms/step - loss: 0.0849 - binary_accuracy: 0.9677 - val_loss: 0.0558 - val_binary_accuracy: 0.9837\n",
      "Epoch 30/300\n",
      "757/760 [============================>.] - ETA: 0s - loss: 0.0808 - binary_accuracy: 0.9700\n",
      "Epoch 00030: val_loss did not improve from 0.05579\n",
      "760/760 [==============================] - 22s 29ms/step - loss: 0.0808 - binary_accuracy: 0.9700 - val_loss: 0.0657 - val_binary_accuracy: 0.9782\n",
      "Epoch 31/300\n",
      "759/760 [============================>.] - ETA: 0s - loss: 0.0825 - binary_accuracy: 0.9698\n",
      "Epoch 00031: val_loss did not improve from 0.05579\n",
      "760/760 [==============================] - 21s 27ms/step - loss: 0.0827 - binary_accuracy: 0.9698 - val_loss: 0.0768 - val_binary_accuracy: 0.9726\n",
      "Epoch 32/300\n",
      "759/760 [============================>.] - ETA: 0s - loss: 0.0824 - binary_accuracy: 0.9687\n",
      "Epoch 00032: val_loss did not improve from 0.05579\n",
      "760/760 [==============================] - 20s 26ms/step - loss: 0.0826 - binary_accuracy: 0.9687 - val_loss: 0.0666 - val_binary_accuracy: 0.9795\n",
      "Epoch 33/300\n",
      "758/760 [============================>.] - ETA: 0s - loss: 0.0826 - binary_accuracy: 0.9686\n",
      "Epoch 00033: val_loss did not improve from 0.05579\n",
      "760/760 [==============================] - 20s 27ms/step - loss: 0.0826 - binary_accuracy: 0.9686 - val_loss: 0.0624 - val_binary_accuracy: 0.9831\n",
      "Epoch 34/300\n",
      "759/760 [============================>.] - ETA: 0s - loss: 0.0818 - binary_accuracy: 0.9697\n",
      "Epoch 00034: val_loss did not improve from 0.05579\n",
      "760/760 [==============================] - 21s 27ms/step - loss: 0.0818 - binary_accuracy: 0.9697 - val_loss: 0.0721 - val_binary_accuracy: 0.9768\n",
      "Epoch 35/300\n",
      "758/760 [============================>.] - ETA: 0s - loss: 0.0795 - binary_accuracy: 0.9702\n",
      "Epoch 00035: val_loss did not improve from 0.05579\n",
      "760/760 [==============================] - 20s 27ms/step - loss: 0.0795 - binary_accuracy: 0.9701 - val_loss: 0.0575 - val_binary_accuracy: 0.9831\n",
      "Epoch 36/300\n",
      "757/760 [============================>.] - ETA: 0s - loss: 0.0796 - binary_accuracy: 0.9699\n",
      "Epoch 00036: val_loss did not improve from 0.05579\n",
      "760/760 [==============================] - 20s 27ms/step - loss: 0.0796 - binary_accuracy: 0.9699 - val_loss: 0.0680 - val_binary_accuracy: 0.9787\n",
      "Epoch 37/300\n",
      "759/760 [============================>.] - ETA: 0s - loss: 0.0812 - binary_accuracy: 0.9701\n",
      "Epoch 00037: val_loss did not improve from 0.05579\n",
      "760/760 [==============================] - 21s 27ms/step - loss: 0.0811 - binary_accuracy: 0.9701 - val_loss: 0.0705 - val_binary_accuracy: 0.9783\n",
      "Epoch 38/300\n",
      "757/760 [============================>.] - ETA: 0s - loss: 0.0779 - binary_accuracy: 0.9708\n",
      "Epoch 00038: val_loss did not improve from 0.05579\n",
      "760/760 [==============================] - 21s 27ms/step - loss: 0.0778 - binary_accuracy: 0.9708 - val_loss: 0.0779 - val_binary_accuracy: 0.9743\n",
      "Epoch 39/300\n",
      "759/760 [============================>.] - ETA: 0s - loss: 0.0807 - binary_accuracy: 0.9697\n",
      "Epoch 00039: val_loss did not improve from 0.05579\n",
      "760/760 [==============================] - 20s 27ms/step - loss: 0.0808 - binary_accuracy: 0.9696 - val_loss: 0.0807 - val_binary_accuracy: 0.9715\n",
      "Epoch 40/300\n",
      "757/760 [============================>.] - ETA: 0s - loss: 0.0769 - binary_accuracy: 0.9709\n",
      "Epoch 00040: val_loss did not improve from 0.05579\n",
      "760/760 [==============================] - 21s 27ms/step - loss: 0.0772 - binary_accuracy: 0.9707 - val_loss: 0.0685 - val_binary_accuracy: 0.9764\n",
      "Epoch 41/300\n",
      "757/760 [============================>.] - ETA: 0s - loss: 0.0807 - binary_accuracy: 0.9695\n",
      "Epoch 00041: val_loss did not improve from 0.05579\n",
      "760/760 [==============================] - 21s 28ms/step - loss: 0.0809 - binary_accuracy: 0.9694 - val_loss: 0.0613 - val_binary_accuracy: 0.9777\n",
      "Epoch 42/300\n",
      "757/760 [============================>.] - ETA: 0s - loss: 0.0832 - binary_accuracy: 0.9700\n",
      "Epoch 00042: val_loss did not improve from 0.05579\n",
      "760/760 [==============================] - 21s 28ms/step - loss: 0.0832 - binary_accuracy: 0.9700 - val_loss: 0.0591 - val_binary_accuracy: 0.9808\n",
      "Epoch 43/300\n",
      "759/760 [============================>.] - ETA: 0s - loss: 0.0790 - binary_accuracy: 0.9703\n",
      "Epoch 00043: val_loss did not improve from 0.05579\n",
      "760/760 [==============================] - 20s 27ms/step - loss: 0.0792 - binary_accuracy: 0.9702 - val_loss: 0.0760 - val_binary_accuracy: 0.9743\n",
      "Epoch 44/300\n",
      "758/760 [============================>.] - ETA: 0s - loss: 0.0774 - binary_accuracy: 0.9719\n",
      "Epoch 00044: val_loss did not improve from 0.05579\n",
      "760/760 [==============================] - 21s 28ms/step - loss: 0.0773 - binary_accuracy: 0.9719 - val_loss: 0.0569 - val_binary_accuracy: 0.9820\n",
      "Epoch 45/300\n",
      "758/760 [============================>.] - ETA: 0s - loss: 0.0782 - binary_accuracy: 0.9719\n",
      "Epoch 00045: val_loss did not improve from 0.05579\n",
      "760/760 [==============================] - 20s 27ms/step - loss: 0.0783 - binary_accuracy: 0.9719 - val_loss: 0.0627 - val_binary_accuracy: 0.9778\n",
      "Epoch 46/300\n",
      "759/760 [============================>.] - ETA: 0s - loss: 0.0761 - binary_accuracy: 0.9705\n",
      "Epoch 00046: val_loss did not improve from 0.05579\n",
      "760/760 [==============================] - 21s 27ms/step - loss: 0.0761 - binary_accuracy: 0.9704 - val_loss: 0.0776 - val_binary_accuracy: 0.9740\n",
      "Epoch 47/300\n",
      "757/760 [============================>.] - ETA: 0s - loss: 0.0785 - binary_accuracy: 0.9712\n",
      "Epoch 00047: val_loss did not improve from 0.05579\n",
      "760/760 [==============================] - 20s 27ms/step - loss: 0.0787 - binary_accuracy: 0.9711 - val_loss: 0.0800 - val_binary_accuracy: 0.9723\n",
      "Epoch 48/300\n",
      "759/760 [============================>.] - ETA: 0s - loss: 0.0789 - binary_accuracy: 0.9706\n",
      "Epoch 00048: val_loss improved from 0.05579 to 0.05446, saving model to /home/jupyter/model_checkpoints/planes_satellite/weights.48-0.0545.hdf5\n",
      "760/760 [==============================] - 20s 27ms/step - loss: 0.0790 - binary_accuracy: 0.9706 - val_loss: 0.0545 - val_binary_accuracy: 0.9819\n",
      "Epoch 49/300\n",
      "759/760 [============================>.] - ETA: 0s - loss: 0.0768 - binary_accuracy: 0.9722\n",
      "Epoch 00049: val_loss did not improve from 0.05446\n",
      "760/760 [==============================] - 21s 28ms/step - loss: 0.0772 - binary_accuracy: 0.9722 - val_loss: 0.0675 - val_binary_accuracy: 0.9780\n",
      "Epoch 50/300\n",
      "758/760 [============================>.] - ETA: 0s - loss: 0.0775 - binary_accuracy: 0.9722\n",
      "Epoch 00050: val_loss improved from 0.05446 to 0.05304, saving model to /home/jupyter/model_checkpoints/planes_satellite/weights.50-0.0530.hdf5\n",
      "760/760 [==============================] - 20s 27ms/step - loss: 0.0774 - binary_accuracy: 0.9722 - val_loss: 0.0530 - val_binary_accuracy: 0.9815\n",
      "Epoch 51/300\n",
      "759/760 [============================>.] - ETA: 0s - loss: 0.0746 - binary_accuracy: 0.9720\n",
      "Epoch 00051: val_loss did not improve from 0.05304\n",
      "760/760 [==============================] - 21s 28ms/step - loss: 0.0746 - binary_accuracy: 0.9720 - val_loss: 0.0653 - val_binary_accuracy: 0.9784\n",
      "Epoch 52/300\n",
      "759/760 [============================>.] - ETA: 0s - loss: 0.0789 - binary_accuracy: 0.9710\n",
      "Epoch 00052: val_loss did not improve from 0.05304\n",
      "760/760 [==============================] - 21s 27ms/step - loss: 0.0790 - binary_accuracy: 0.9709 - val_loss: 0.0650 - val_binary_accuracy: 0.9783\n",
      "Epoch 53/300\n",
      "757/760 [============================>.] - ETA: 0s - loss: 0.0723 - binary_accuracy: 0.9728\n",
      "Epoch 00053: val_loss did not improve from 0.05304\n",
      "760/760 [==============================] - 20s 27ms/step - loss: 0.0724 - binary_accuracy: 0.9728 - val_loss: 0.0679 - val_binary_accuracy: 0.9760\n",
      "Epoch 54/300\n",
      "759/760 [============================>.] - ETA: 0s - loss: 0.0750 - binary_accuracy: 0.9731\n",
      "Epoch 00054: val_loss did not improve from 0.05304\n",
      "760/760 [==============================] - 21s 27ms/step - loss: 0.0749 - binary_accuracy: 0.9731 - val_loss: 0.0688 - val_binary_accuracy: 0.9777\n",
      "Epoch 55/300\n",
      "759/760 [============================>.] - ETA: 0s - loss: 0.0771 - binary_accuracy: 0.9713\n",
      "Epoch 00055: val_loss did not improve from 0.05304\n",
      "760/760 [==============================] - 20s 27ms/step - loss: 0.0771 - binary_accuracy: 0.9713 - val_loss: 0.0612 - val_binary_accuracy: 0.9796\n",
      "Epoch 56/300\n",
      "759/760 [============================>.] - ETA: 0s - loss: 0.0753 - binary_accuracy: 0.9721\n",
      "Epoch 00056: val_loss did not improve from 0.05304\n",
      "760/760 [==============================] - 20s 27ms/step - loss: 0.0753 - binary_accuracy: 0.9721 - val_loss: 0.0793 - val_binary_accuracy: 0.9737\n",
      "Epoch 57/300\n",
      "758/760 [============================>.] - ETA: 0s - loss: 0.0744 - binary_accuracy: 0.9722\n",
      "Epoch 00057: val_loss did not improve from 0.05304\n",
      "760/760 [==============================] - 20s 26ms/step - loss: 0.0744 - binary_accuracy: 0.9721 - val_loss: 0.0557 - val_binary_accuracy: 0.9827\n",
      "Epoch 58/300\n",
      "757/760 [============================>.] - ETA: 0s - loss: 0.0752 - binary_accuracy: 0.9724\n",
      "Epoch 00058: val_loss did not improve from 0.05304\n",
      "760/760 [==============================] - 21s 27ms/step - loss: 0.0755 - binary_accuracy: 0.9724 - val_loss: 0.0687 - val_binary_accuracy: 0.9753\n",
      "Epoch 59/300\n",
      "759/760 [============================>.] - ETA: 0s - loss: 0.0709 - binary_accuracy: 0.9740\n",
      "Epoch 00059: val_loss improved from 0.05304 to 0.05035, saving model to /home/jupyter/model_checkpoints/planes_satellite/weights.59-0.0503.hdf5\n",
      "760/760 [==============================] - 20s 27ms/step - loss: 0.0708 - binary_accuracy: 0.9741 - val_loss: 0.0503 - val_binary_accuracy: 0.9829\n",
      "Epoch 60/300\n",
      "759/760 [============================>.] - ETA: 0s - loss: 0.0718 - binary_accuracy: 0.9738\n",
      "Epoch 00060: val_loss did not improve from 0.05035\n",
      "760/760 [==============================] - 20s 26ms/step - loss: 0.0718 - binary_accuracy: 0.9738 - val_loss: 0.0612 - val_binary_accuracy: 0.9809\n",
      "Epoch 61/300\n",
      "758/760 [============================>.] - ETA: 0s - loss: 0.0751 - binary_accuracy: 0.9727\n",
      "Epoch 00061: val_loss did not improve from 0.05035\n",
      "760/760 [==============================] - 20s 27ms/step - loss: 0.0750 - binary_accuracy: 0.9727 - val_loss: 0.0544 - val_binary_accuracy: 0.9811\n",
      "Epoch 62/300\n",
      "758/760 [============================>.] - ETA: 0s - loss: 0.0689 - binary_accuracy: 0.9741\n",
      "Epoch 00062: val_loss did not improve from 0.05035\n",
      "760/760 [==============================] - 21s 27ms/step - loss: 0.0688 - binary_accuracy: 0.9741 - val_loss: 0.0658 - val_binary_accuracy: 0.9767\n",
      "Epoch 63/300\n",
      "759/760 [============================>.] - ETA: 0s - loss: 0.0700 - binary_accuracy: 0.9739\n",
      "Epoch 00063: val_loss did not improve from 0.05035\n",
      "760/760 [==============================] - 20s 26ms/step - loss: 0.0703 - binary_accuracy: 0.9739 - val_loss: 0.0988 - val_binary_accuracy: 0.9609\n",
      "Epoch 64/300\n",
      "758/760 [============================>.] - ETA: 0s - loss: 0.0738 - binary_accuracy: 0.9742\n",
      "Epoch 00064: val_loss improved from 0.05035 to 0.05021, saving model to /home/jupyter/model_checkpoints/planes_satellite/weights.64-0.0502.hdf5\n",
      "760/760 [==============================] - 20s 26ms/step - loss: 0.0737 - binary_accuracy: 0.9743 - val_loss: 0.0502 - val_binary_accuracy: 0.9847\n",
      "Epoch 65/300\n",
      "757/760 [============================>.] - ETA: 0s - loss: 0.0756 - binary_accuracy: 0.9718\n",
      "Epoch 00065: val_loss did not improve from 0.05021\n",
      "760/760 [==============================] - 21s 27ms/step - loss: 0.0755 - binary_accuracy: 0.9718 - val_loss: 0.0645 - val_binary_accuracy: 0.9792\n",
      "Epoch 66/300\n",
      "758/760 [============================>.] - ETA: 0s - loss: 0.0754 - binary_accuracy: 0.9731\n",
      "Epoch 00066: val_loss did not improve from 0.05021\n",
      "760/760 [==============================] - 21s 28ms/step - loss: 0.0755 - binary_accuracy: 0.9731 - val_loss: 0.0639 - val_binary_accuracy: 0.9781\n",
      "Epoch 67/300\n",
      "757/760 [============================>.] - ETA: 0s - loss: 0.0714 - binary_accuracy: 0.9747\n",
      "Epoch 00067: val_loss did not improve from 0.05021\n",
      "760/760 [==============================] - 21s 28ms/step - loss: 0.0718 - binary_accuracy: 0.9746 - val_loss: 0.0732 - val_binary_accuracy: 0.9783\n",
      "Epoch 68/300\n",
      "759/760 [============================>.] - ETA: 0s - loss: 0.0719 - binary_accuracy: 0.9741\n",
      "Epoch 00068: val_loss did not improve from 0.05021\n",
      "760/760 [==============================] - 21s 28ms/step - loss: 0.0718 - binary_accuracy: 0.9741 - val_loss: 0.0586 - val_binary_accuracy: 0.9795\n",
      "Epoch 69/300\n",
      "758/760 [============================>.] - ETA: 0s - loss: 0.0701 - binary_accuracy: 0.9744\n",
      "Epoch 00069: val_loss did not improve from 0.05021\n",
      "760/760 [==============================] - 22s 28ms/step - loss: 0.0700 - binary_accuracy: 0.9744 - val_loss: 0.0535 - val_binary_accuracy: 0.9831\n",
      "Epoch 70/300\n",
      "759/760 [============================>.] - ETA: 0s - loss: 0.0726 - binary_accuracy: 0.9728\n",
      "Epoch 00070: val_loss did not improve from 0.05021\n",
      "760/760 [==============================] - 21s 28ms/step - loss: 0.0726 - binary_accuracy: 0.9728 - val_loss: 0.0616 - val_binary_accuracy: 0.9785\n",
      "Epoch 71/300\n",
      "759/760 [============================>.] - ETA: 0s - loss: 0.0733 - binary_accuracy: 0.9739\n",
      "Epoch 00071: val_loss did not improve from 0.05021\n",
      "760/760 [==============================] - 21s 28ms/step - loss: 0.0733 - binary_accuracy: 0.9738 - val_loss: 0.0547 - val_binary_accuracy: 0.9826\n",
      "Epoch 72/300\n",
      "757/760 [============================>.] - ETA: 0s - loss: 0.0722 - binary_accuracy: 0.9737\n",
      "Epoch 00072: val_loss did not improve from 0.05021\n",
      "760/760 [==============================] - 22s 28ms/step - loss: 0.0723 - binary_accuracy: 0.9737 - val_loss: 0.0693 - val_binary_accuracy: 0.9778\n",
      "Epoch 73/300\n",
      "759/760 [============================>.] - ETA: 0s - loss: 0.0697 - binary_accuracy: 0.9735\n",
      "Epoch 00073: val_loss did not improve from 0.05021\n",
      "760/760 [==============================] - 21s 28ms/step - loss: 0.0697 - binary_accuracy: 0.9734 - val_loss: 0.0699 - val_binary_accuracy: 0.9763\n",
      "Epoch 74/300\n",
      "759/760 [============================>.] - ETA: 0s - loss: 0.0691 - binary_accuracy: 0.9758\n",
      "Epoch 00074: val_loss did not improve from 0.05021\n",
      "760/760 [==============================] - 21s 28ms/step - loss: 0.0691 - binary_accuracy: 0.9758 - val_loss: 0.0873 - val_binary_accuracy: 0.9661\n",
      "Epoch 75/300\n",
      "758/760 [============================>.] - ETA: 0s - loss: 0.0705 - binary_accuracy: 0.9738\n",
      "Epoch 00075: val_loss improved from 0.05021 to 0.04555, saving model to /home/jupyter/model_checkpoints/planes_satellite/weights.75-0.0456.hdf5\n",
      "760/760 [==============================] - 21s 28ms/step - loss: 0.0706 - binary_accuracy: 0.9738 - val_loss: 0.0456 - val_binary_accuracy: 0.9863\n",
      "Epoch 76/300\n",
      "759/760 [============================>.] - ETA: 0s - loss: 0.0713 - binary_accuracy: 0.9747\n",
      "Epoch 00076: val_loss did not improve from 0.04555\n",
      "760/760 [==============================] - 22s 28ms/step - loss: 0.0713 - binary_accuracy: 0.9747 - val_loss: 0.0538 - val_binary_accuracy: 0.9831\n",
      "Epoch 77/300\n",
      "757/760 [============================>.] - ETA: 0s - loss: 0.0735 - binary_accuracy: 0.9737\n",
      "Epoch 00077: val_loss did not improve from 0.04555\n",
      "760/760 [==============================] - 22s 29ms/step - loss: 0.0734 - binary_accuracy: 0.9737 - val_loss: 0.0794 - val_binary_accuracy: 0.9693\n",
      "Epoch 78/300\n",
      "759/760 [============================>.] - ETA: 0s - loss: 0.0722 - binary_accuracy: 0.9729\n",
      "Epoch 00078: val_loss did not improve from 0.04555\n",
      "760/760 [==============================] - 21s 28ms/step - loss: 0.0722 - binary_accuracy: 0.9729 - val_loss: 0.0609 - val_binary_accuracy: 0.9776\n",
      "Epoch 79/300\n",
      "759/760 [============================>.] - ETA: 0s - loss: 0.0711 - binary_accuracy: 0.9757\n",
      "Epoch 00079: val_loss did not improve from 0.04555\n",
      "760/760 [==============================] - 20s 27ms/step - loss: 0.0713 - binary_accuracy: 0.9757 - val_loss: 0.0592 - val_binary_accuracy: 0.9801\n",
      "Epoch 80/300\n",
      "759/760 [============================>.] - ETA: 0s - loss: 0.0683 - binary_accuracy: 0.9745\n",
      "Epoch 00080: val_loss did not improve from 0.04555\n",
      "760/760 [==============================] - 20s 26ms/step - loss: 0.0686 - binary_accuracy: 0.9744 - val_loss: 0.0571 - val_binary_accuracy: 0.9804\n",
      "Epoch 81/300\n",
      "757/760 [============================>.] - ETA: 0s - loss: 0.0692 - binary_accuracy: 0.9753\n",
      "Epoch 00081: val_loss did not improve from 0.04555\n",
      "760/760 [==============================] - 20s 27ms/step - loss: 0.0691 - binary_accuracy: 0.9753 - val_loss: 0.0623 - val_binary_accuracy: 0.9778\n",
      "Epoch 82/300\n",
      "759/760 [============================>.] - ETA: 0s - loss: 0.0683 - binary_accuracy: 0.9746\n",
      "Epoch 00082: val_loss did not improve from 0.04555\n",
      "760/760 [==============================] - 21s 27ms/step - loss: 0.0685 - binary_accuracy: 0.9746 - val_loss: 0.0571 - val_binary_accuracy: 0.9839\n",
      "Epoch 83/300\n",
      "757/760 [============================>.] - ETA: 0s - loss: 0.0726 - binary_accuracy: 0.9740\n",
      "Epoch 00083: val_loss did not improve from 0.04555\n",
      "760/760 [==============================] - 21s 27ms/step - loss: 0.0724 - binary_accuracy: 0.9740 - val_loss: 0.1035 - val_binary_accuracy: 0.9615\n",
      "Epoch 84/300\n",
      "758/760 [============================>.] - ETA: 0s - loss: 0.0685 - binary_accuracy: 0.9742\n",
      "Epoch 00084: val_loss did not improve from 0.04555\n",
      "760/760 [==============================] - 21s 27ms/step - loss: 0.0684 - binary_accuracy: 0.9742 - val_loss: 0.0582 - val_binary_accuracy: 0.9798\n",
      "Epoch 85/300\n",
      "757/760 [============================>.] - ETA: 0s - loss: 0.0711 - binary_accuracy: 0.9737\n",
      "Epoch 00085: val_loss did not improve from 0.04555\n",
      "760/760 [==============================] - 21s 28ms/step - loss: 0.0709 - binary_accuracy: 0.9738 - val_loss: 0.0925 - val_binary_accuracy: 0.9674\n",
      "Epoch 86/300\n",
      "758/760 [============================>.] - ETA: 0s - loss: 0.0724 - binary_accuracy: 0.9732\n",
      "Epoch 00086: val_loss did not improve from 0.04555\n",
      "760/760 [==============================] - 21s 27ms/step - loss: 0.0726 - binary_accuracy: 0.9731 - val_loss: 0.0681 - val_binary_accuracy: 0.9765\n",
      "Epoch 87/300\n",
      "758/760 [============================>.] - ETA: 0s - loss: 0.0666 - binary_accuracy: 0.9756\n",
      "Epoch 00087: val_loss did not improve from 0.04555\n",
      "760/760 [==============================] - 21s 27ms/step - loss: 0.0665 - binary_accuracy: 0.9756 - val_loss: 0.0644 - val_binary_accuracy: 0.9769\n",
      "Epoch 88/300\n",
      "759/760 [============================>.] - ETA: 0s - loss: 0.0714 - binary_accuracy: 0.9747\n",
      "Epoch 00088: val_loss did not improve from 0.04555\n",
      "760/760 [==============================] - 21s 27ms/step - loss: 0.0714 - binary_accuracy: 0.9747 - val_loss: 0.0521 - val_binary_accuracy: 0.9819\n",
      "Epoch 89/300\n",
      "758/760 [============================>.] - ETA: 0s - loss: 0.0678 - binary_accuracy: 0.9750\n",
      "Epoch 00089: val_loss did not improve from 0.04555\n",
      "760/760 [==============================] - 21s 27ms/step - loss: 0.0677 - binary_accuracy: 0.9751 - val_loss: 0.0623 - val_binary_accuracy: 0.9786\n",
      "Epoch 90/300\n",
      "759/760 [============================>.] - ETA: 0s - loss: 0.0695 - binary_accuracy: 0.9751\n",
      "Epoch 00090: val_loss did not improve from 0.04555\n",
      "760/760 [==============================] - 21s 27ms/step - loss: 0.0695 - binary_accuracy: 0.9751 - val_loss: 0.0896 - val_binary_accuracy: 0.9684\n",
      "Epoch 91/300\n",
      "758/760 [============================>.] - ETA: 0s - loss: 0.0741 - binary_accuracy: 0.9733\n",
      "Epoch 00091: val_loss did not improve from 0.04555\n",
      "760/760 [==============================] - 20s 27ms/step - loss: 0.0740 - binary_accuracy: 0.9733 - val_loss: 0.1265 - val_binary_accuracy: 0.9469\n",
      "Epoch 92/300\n",
      "758/760 [============================>.] - ETA: 0s - loss: 0.0688 - binary_accuracy: 0.9746\n",
      "Epoch 00092: val_loss did not improve from 0.04555\n",
      "760/760 [==============================] - 21s 28ms/step - loss: 0.0689 - binary_accuracy: 0.9746 - val_loss: 0.0718 - val_binary_accuracy: 0.9745\n",
      "Epoch 93/300\n",
      "757/760 [============================>.] - ETA: 0s - loss: 0.0704 - binary_accuracy: 0.9755\n",
      "Epoch 00093: val_loss improved from 0.04555 to 0.04506, saving model to /home/jupyter/model_checkpoints/planes_satellite/weights.93-0.0451.hdf5\n",
      "760/760 [==============================] - 21s 27ms/step - loss: 0.0702 - binary_accuracy: 0.9756 - val_loss: 0.0451 - val_binary_accuracy: 0.9862\n",
      "Epoch 94/300\n",
      "758/760 [============================>.] - ETA: 0s - loss: 0.0673 - binary_accuracy: 0.9760\n",
      "Epoch 00094: val_loss improved from 0.04506 to 0.04473, saving model to /home/jupyter/model_checkpoints/planes_satellite/weights.94-0.0447.hdf5\n",
      "760/760 [==============================] - 21s 27ms/step - loss: 0.0672 - binary_accuracy: 0.9760 - val_loss: 0.0447 - val_binary_accuracy: 0.9841\n",
      "Epoch 95/300\n",
      "759/760 [============================>.] - ETA: 0s - loss: 0.0654 - binary_accuracy: 0.9760\n",
      "Epoch 00095: val_loss did not improve from 0.04473\n",
      "760/760 [==============================] - 21s 27ms/step - loss: 0.0654 - binary_accuracy: 0.9761 - val_loss: 0.0709 - val_binary_accuracy: 0.9732\n",
      "Epoch 96/300\n",
      "757/760 [============================>.] - ETA: 0s - loss: 0.0687 - binary_accuracy: 0.9751\n",
      "Epoch 00096: val_loss did not improve from 0.04473\n",
      "760/760 [==============================] - 21s 27ms/step - loss: 0.0690 - binary_accuracy: 0.9750 - val_loss: 0.0526 - val_binary_accuracy: 0.9819\n",
      "Epoch 97/300\n",
      "757/760 [============================>.] - ETA: 0s - loss: 0.0671 - binary_accuracy: 0.9767\n",
      "Epoch 00097: val_loss did not improve from 0.04473\n",
      "760/760 [==============================] - 21s 27ms/step - loss: 0.0674 - binary_accuracy: 0.9766 - val_loss: 0.0841 - val_binary_accuracy: 0.9683\n",
      "Epoch 98/300\n",
      "757/760 [============================>.] - ETA: 0s - loss: 0.0665 - binary_accuracy: 0.9757\n",
      "Epoch 00098: val_loss did not improve from 0.04473\n",
      "760/760 [==============================] - 20s 27ms/step - loss: 0.0668 - binary_accuracy: 0.9756 - val_loss: 0.0959 - val_binary_accuracy: 0.9664\n",
      "Epoch 99/300\n",
      "757/760 [============================>.] - ETA: 0s - loss: 0.0673 - binary_accuracy: 0.9751\n",
      "Epoch 00099: val_loss did not improve from 0.04473\n",
      "760/760 [==============================] - 21s 27ms/step - loss: 0.0676 - binary_accuracy: 0.9750 - val_loss: 0.0464 - val_binary_accuracy: 0.9842\n",
      "Epoch 100/300\n",
      "759/760 [============================>.] - ETA: 0s - loss: 0.0677 - binary_accuracy: 0.9758\n",
      "Epoch 00100: val_loss did not improve from 0.04473\n",
      "760/760 [==============================] - 21s 28ms/step - loss: 0.0677 - binary_accuracy: 0.9758 - val_loss: 0.0531 - val_binary_accuracy: 0.9827\n",
      "Epoch 101/300\n",
      "757/760 [============================>.] - ETA: 0s - loss: 0.0685 - binary_accuracy: 0.9752\n",
      "Epoch 00101: val_loss did not improve from 0.04473\n",
      "760/760 [==============================] - 21s 27ms/step - loss: 0.0683 - binary_accuracy: 0.9753 - val_loss: 0.0495 - val_binary_accuracy: 0.9849\n",
      "Epoch 102/300\n",
      "758/760 [============================>.] - ETA: 0s - loss: 0.0657 - binary_accuracy: 0.9769\n",
      "Epoch 00102: val_loss did not improve from 0.04473\n",
      "760/760 [==============================] - 21s 27ms/step - loss: 0.0658 - binary_accuracy: 0.9769 - val_loss: 0.0787 - val_binary_accuracy: 0.9697\n",
      "Epoch 103/300\n",
      "758/760 [============================>.] - ETA: 0s - loss: 0.0674 - binary_accuracy: 0.9756\n",
      "Epoch 00103: val_loss did not improve from 0.04473\n",
      "760/760 [==============================] - 21s 27ms/step - loss: 0.0673 - binary_accuracy: 0.9757 - val_loss: 0.0539 - val_binary_accuracy: 0.9825\n",
      "Epoch 104/300\n",
      "758/760 [============================>.] - ETA: 0s - loss: 0.0675 - binary_accuracy: 0.9752\n",
      "Epoch 00104: val_loss did not improve from 0.04473\n",
      "760/760 [==============================] - 20s 27ms/step - loss: 0.0674 - binary_accuracy: 0.9752 - val_loss: 0.0531 - val_binary_accuracy: 0.9826\n",
      "Epoch 105/300\n",
      "759/760 [============================>.] - ETA: 0s - loss: 0.0665 - binary_accuracy: 0.9762\n",
      "Epoch 00105: val_loss did not improve from 0.04473\n",
      "760/760 [==============================] - 21s 27ms/step - loss: 0.0664 - binary_accuracy: 0.9763 - val_loss: 0.0738 - val_binary_accuracy: 0.9732\n",
      "Epoch 106/300\n",
      "758/760 [============================>.] - ETA: 0s - loss: 0.0642 - binary_accuracy: 0.9763\n",
      "Epoch 00106: val_loss did not improve from 0.04473\n",
      "760/760 [==============================] - 20s 27ms/step - loss: 0.0644 - binary_accuracy: 0.9762 - val_loss: 0.0494 - val_binary_accuracy: 0.9837\n",
      "Epoch 107/300\n",
      "758/760 [============================>.] - ETA: 0s - loss: 0.0653 - binary_accuracy: 0.9765\n",
      "Epoch 00107: val_loss did not improve from 0.04473\n",
      "760/760 [==============================] - 20s 27ms/step - loss: 0.0654 - binary_accuracy: 0.9765 - val_loss: 0.0602 - val_binary_accuracy: 0.9812\n",
      "Epoch 108/300\n",
      "757/760 [============================>.] - ETA: 0s - loss: 0.0659 - binary_accuracy: 0.9756\n",
      "Epoch 00108: val_loss did not improve from 0.04473\n",
      "760/760 [==============================] - 21s 27ms/step - loss: 0.0660 - binary_accuracy: 0.9756 - val_loss: 0.0532 - val_binary_accuracy: 0.9845\n",
      "Epoch 109/300\n",
      "758/760 [============================>.] - ETA: 0s - loss: 0.0694 - binary_accuracy: 0.9749\n",
      "Epoch 00109: val_loss did not improve from 0.04473\n",
      "760/760 [==============================] - 21s 27ms/step - loss: 0.0694 - binary_accuracy: 0.9748 - val_loss: 0.0597 - val_binary_accuracy: 0.9793\n",
      "Epoch 110/300\n",
      "759/760 [============================>.] - ETA: 0s - loss: 0.0667 - binary_accuracy: 0.9765\n",
      "Epoch 00110: val_loss did not improve from 0.04473\n",
      "760/760 [==============================] - 20s 27ms/step - loss: 0.0667 - binary_accuracy: 0.9765 - val_loss: 0.0672 - val_binary_accuracy: 0.9763\n",
      "Epoch 111/300\n",
      "758/760 [============================>.] - ETA: 0s - loss: 0.0687 - binary_accuracy: 0.9750\n",
      "Epoch 00111: val_loss did not improve from 0.04473\n",
      "760/760 [==============================] - 21s 27ms/step - loss: 0.0687 - binary_accuracy: 0.9750 - val_loss: 0.0483 - val_binary_accuracy: 0.9845\n",
      "Epoch 112/300\n",
      "757/760 [============================>.] - ETA: 0s - loss: 0.0661 - binary_accuracy: 0.9755\n",
      "Epoch 00112: val_loss did not improve from 0.04473\n",
      "760/760 [==============================] - 21s 27ms/step - loss: 0.0661 - binary_accuracy: 0.9755 - val_loss: 0.1062 - val_binary_accuracy: 0.9586\n",
      "Epoch 113/300\n",
      "758/760 [============================>.] - ETA: 0s - loss: 0.0682 - binary_accuracy: 0.9756\n",
      "Epoch 00113: val_loss did not improve from 0.04473\n",
      "760/760 [==============================] - 20s 27ms/step - loss: 0.0685 - binary_accuracy: 0.9755 - val_loss: 0.0549 - val_binary_accuracy: 0.9799\n",
      "Epoch 114/300\n",
      "759/760 [============================>.] - ETA: 0s - loss: 0.0667 - binary_accuracy: 0.9759\n",
      "Epoch 00114: val_loss did not improve from 0.04473\n",
      "760/760 [==============================] - 21s 27ms/step - loss: 0.0667 - binary_accuracy: 0.9759 - val_loss: 0.1557 - val_binary_accuracy: 0.9321\n",
      "Epoch 115/300\n",
      "757/760 [============================>.] - ETA: 0s - loss: 0.0649 - binary_accuracy: 0.9762\n",
      "Epoch 00115: val_loss did not improve from 0.04473\n",
      "760/760 [==============================] - 21s 28ms/step - loss: 0.0652 - binary_accuracy: 0.9762 - val_loss: 0.0604 - val_binary_accuracy: 0.9775\n",
      "Epoch 116/300\n",
      "758/760 [============================>.] - ETA: 0s - loss: 0.0668 - binary_accuracy: 0.9769\n",
      "Epoch 00116: val_loss did not improve from 0.04473\n",
      "760/760 [==============================] - 20s 27ms/step - loss: 0.0669 - binary_accuracy: 0.9769 - val_loss: 0.0475 - val_binary_accuracy: 0.9830\n",
      "Epoch 117/300\n",
      "759/760 [============================>.] - ETA: 0s - loss: 0.0629 - binary_accuracy: 0.9758\n",
      "Epoch 00117: val_loss did not improve from 0.04473\n",
      "760/760 [==============================] - 20s 27ms/step - loss: 0.0629 - binary_accuracy: 0.9758 - val_loss: 0.0454 - val_binary_accuracy: 0.9862\n",
      "Epoch 118/300\n",
      "757/760 [============================>.] - ETA: 0s - loss: 0.0624 - binary_accuracy: 0.9771\n",
      "Epoch 00118: val_loss improved from 0.04473 to 0.04451, saving model to /home/jupyter/model_checkpoints/planes_satellite/weights.118-0.0445.hdf5\n",
      "760/760 [==============================] - 20s 27ms/step - loss: 0.0622 - binary_accuracy: 0.9772 - val_loss: 0.0445 - val_binary_accuracy: 0.9844\n",
      "Epoch 119/300\n",
      "758/760 [============================>.] - ETA: 0s - loss: 0.0666 - binary_accuracy: 0.9757\n",
      "Epoch 00119: val_loss did not improve from 0.04451\n",
      "760/760 [==============================] - 21s 27ms/step - loss: 0.0665 - binary_accuracy: 0.9757 - val_loss: 0.0526 - val_binary_accuracy: 0.9832\n",
      "Epoch 120/300\n",
      "759/760 [============================>.] - ETA: 0s - loss: 0.0693 - binary_accuracy: 0.9752\n",
      "Epoch 00120: val_loss did not improve from 0.04451\n",
      "760/760 [==============================] - 20s 27ms/step - loss: 0.0693 - binary_accuracy: 0.9752 - val_loss: 0.0652 - val_binary_accuracy: 0.9780\n",
      "Epoch 121/300\n",
      "757/760 [============================>.] - ETA: 0s - loss: 0.0652 - binary_accuracy: 0.9766\n",
      "Epoch 00121: val_loss did not improve from 0.04451\n",
      "760/760 [==============================] - 21s 27ms/step - loss: 0.0651 - binary_accuracy: 0.9767 - val_loss: 0.0581 - val_binary_accuracy: 0.9788\n",
      "Epoch 122/300\n",
      "758/760 [============================>.] - ETA: 0s - loss: 0.0636 - binary_accuracy: 0.9769\n",
      "Epoch 00122: val_loss did not improve from 0.04451\n",
      "760/760 [==============================] - 20s 26ms/step - loss: 0.0635 - binary_accuracy: 0.9769 - val_loss: 0.0497 - val_binary_accuracy: 0.9850\n",
      "Epoch 123/300\n",
      "759/760 [============================>.] - ETA: 0s - loss: 0.0696 - binary_accuracy: 0.9752\n",
      "Epoch 00123: val_loss did not improve from 0.04451\n",
      "760/760 [==============================] - 20s 26ms/step - loss: 0.0696 - binary_accuracy: 0.9752 - val_loss: 0.0650 - val_binary_accuracy: 0.9780\n",
      "Epoch 124/300\n",
      "759/760 [============================>.] - ETA: 0s - loss: 0.0647 - binary_accuracy: 0.9777\n",
      "Epoch 00124: val_loss did not improve from 0.04451\n",
      "760/760 [==============================] - 20s 26ms/step - loss: 0.0647 - binary_accuracy: 0.9777 - val_loss: 0.0487 - val_binary_accuracy: 0.9837\n",
      "Epoch 125/300\n",
      "757/760 [============================>.] - ETA: 0s - loss: 0.0662 - binary_accuracy: 0.9764\n",
      "Epoch 00125: val_loss did not improve from 0.04451\n",
      "760/760 [==============================] - 20s 26ms/step - loss: 0.0664 - binary_accuracy: 0.9763 - val_loss: 0.0700 - val_binary_accuracy: 0.9734\n",
      "Epoch 126/300\n",
      "759/760 [============================>.] - ETA: 0s - loss: 0.0648 - binary_accuracy: 0.9758\n",
      "Epoch 00126: val_loss did not improve from 0.04451\n",
      "760/760 [==============================] - 20s 27ms/step - loss: 0.0648 - binary_accuracy: 0.9758 - val_loss: 0.0472 - val_binary_accuracy: 0.9845\n",
      "Epoch 127/300\n",
      "757/760 [============================>.] - ETA: 0s - loss: 0.0643 - binary_accuracy: 0.9771\n",
      "Epoch 00127: val_loss did not improve from 0.04451\n",
      "760/760 [==============================] - 20s 26ms/step - loss: 0.0644 - binary_accuracy: 0.9771 - val_loss: 0.0520 - val_binary_accuracy: 0.9839\n",
      "Epoch 128/300\n",
      "759/760 [============================>.] - ETA: 0s - loss: 0.0673 - binary_accuracy: 0.9760\n",
      "Epoch 00128: val_loss did not improve from 0.04451\n",
      "760/760 [==============================] - 21s 28ms/step - loss: 0.0672 - binary_accuracy: 0.9760 - val_loss: 0.0474 - val_binary_accuracy: 0.9847\n",
      "Epoch 129/300\n",
      "759/760 [============================>.] - ETA: 0s - loss: 0.0662 - binary_accuracy: 0.9753\n",
      "Epoch 00129: val_loss did not improve from 0.04451\n",
      "760/760 [==============================] - 21s 28ms/step - loss: 0.0661 - binary_accuracy: 0.9753 - val_loss: 0.0612 - val_binary_accuracy: 0.9766\n",
      "Epoch 130/300\n",
      "759/760 [============================>.] - ETA: 0s - loss: 0.0640 - binary_accuracy: 0.9773\n",
      "Epoch 00130: val_loss did not improve from 0.04451\n",
      "760/760 [==============================] - 21s 28ms/step - loss: 0.0640 - binary_accuracy: 0.9773 - val_loss: 0.0891 - val_binary_accuracy: 0.9655\n",
      "Epoch 131/300\n",
      "757/760 [============================>.] - ETA: 0s - loss: 0.0654 - binary_accuracy: 0.9759\n",
      "Epoch 00131: val_loss did not improve from 0.04451\n",
      "760/760 [==============================] - 20s 27ms/step - loss: 0.0653 - binary_accuracy: 0.9759 - val_loss: 0.0732 - val_binary_accuracy: 0.9730\n",
      "Epoch 132/300\n",
      "493/760 [==================>...........] - ETA: 5s - loss: 0.0652 - binary_accuracy: 0.9760"
     ]
    }
   ],
   "source": [
    "\n",
    "history = model.fit_generator(train_generator, \n",
    "                             epochs=EPOCHS,\n",
    "                             verbose=1,\n",
    "                             shuffle=True,\n",
    "                             validation_data=valid_generator,\n",
    "                             callbacks=[early_stopping_calllback, tensorboard_callback, model_checkpoint_callback]\n",
    "                             )"
   ]
  },
  {
   "cell_type": "markdown",
   "metadata": {},
   "source": [
    "## evaluate"
   ]
  },
  {
   "cell_type": "markdown",
   "metadata": {},
   "source": [
    "### current model and weights"
   ]
  },
  {
   "cell_type": "code",
   "execution_count": null,
   "metadata": {},
   "outputs": [],
   "source": [
    "evaluation = model.evaluate_generator(test_generator)\n",
    "print('Summary: Loss over the test dataset: %.4f, Accuracy: %.4f' % (evaluation[0], evaluation[1]))"
   ]
  },
  {
   "cell_type": "markdown",
   "metadata": {},
   "source": [
    "### evaluate using best saved model and weights"
   ]
  },
  {
   "cell_type": "code",
   "execution_count": null,
   "metadata": {},
   "outputs": [],
   "source": [
    "list_of_models = glob.glob(checkpoint_root + '/*.hdf5')\n",
    "latest_model = max(list_of_models, key=path.getctime)\n",
    "print(latest_model)"
   ]
  },
  {
   "cell_type": "code",
   "execution_count": null,
   "metadata": {},
   "outputs": [],
   "source": [
    "from keras.models import load_model\n",
    "\n",
    "best_model = load_model(latest_model)"
   ]
  },
  {
   "cell_type": "code",
   "execution_count": null,
   "metadata": {},
   "outputs": [],
   "source": [
    "evaluation = best_model.evaluate_generator(test_generator)\n",
    "print('Summary: Loss over the test dataset: %.4f, Accuracy: %.4f' % (evaluation[0], evaluation[1]))"
   ]
  },
  {
   "cell_type": "markdown",
   "metadata": {},
   "source": [
    "### using best model, continue training using smaller learning rate"
   ]
  },
  {
   "cell_type": "markdown",
   "metadata": {},
   "source": [
    "        \n",
    "best_model.compile(optimizer=Adam(lr=0.0001), loss='binary_crossentropy', metrics=['binary_accuracy'])"
   ]
  },
  {
   "cell_type": "markdown",
   "metadata": {},
   "source": [
    "history = best_model.fit_generator(train_generator, \n",
    "                             epochs=EPOCHS,\n",
    "                             verbose=1,\n",
    "                             shuffle=True,\n",
    "                             validation_data=valid_generator,\n",
    "                             callbacks=[early_stopping_calllback, tensorboard_callback, model_checkpoint_callback]\n",
    "                             )"
   ]
  },
  {
   "cell_type": "markdown",
   "metadata": {},
   "source": [
    "## predict"
   ]
  },
  {
   "cell_type": "markdown",
   "metadata": {},
   "source": [
    "### plot some predictions"
   ]
  },
  {
   "cell_type": "code",
   "execution_count": null,
   "metadata": {},
   "outputs": [],
   "source": [
    "# predict a batch\n",
    "\n",
    "(X_batch, y_batch) = next(test_generator)\n",
    "\n",
    "y_batch_true = [str(val) for val in y_batch.argmax(axis=1)]\n",
    "\n",
    "# make prediction\n",
    "predictions = best_model.predict(X_batch)\n",
    "\n",
    "y_batch_predict = [str(val) for val in predictions.argmax(axis=1)]\n",
    "\n",
    "labels_tuple = zip(y_batch_predict, y_batch_true)\n",
    "labels = ['/'.join(t) for t in labels_tuple]\n",
    "\n",
    "plots(X_batch, titles=labels, rows=4, main_title=\"Predictions\")\n",
    "\n",
    "\n"
   ]
  },
  {
   "cell_type": "markdown",
   "metadata": {},
   "source": [
    "### plot some mis-predictions"
   ]
  },
  {
   "cell_type": "code",
   "execution_count": null,
   "metadata": {},
   "outputs": [],
   "source": [
    "# define larger batch size for generator\n",
    "\n",
    "large_test_generator = test_datagen.flow_from_directory(\n",
    "    IMAGE_PATH + \"/test\",\n",
    "    target_size=IMAGE_SIZE,\n",
    "    color_mode=\"rgb\",\n",
    "    batch_size=2*BATCH_SIZE,\n",
    "    class_mode='categorical',\n",
    "    )"
   ]
  },
  {
   "cell_type": "code",
   "execution_count": null,
   "metadata": {},
   "outputs": [],
   "source": [
    "# predict a larger batch\n",
    "\n",
    "(X_batch, y_batch) = next(large_test_generator)\n",
    "\n",
    "y_batch_true = [str(val) for val in y_batch.argmax(axis=1)]\n",
    "\n",
    "# make prediction\n",
    "predictions = best_model.predict(X_batch)\n",
    "\n",
    "y_batch_predict = [str(val) for val in predictions.argmax(axis=1)]\n",
    "\n",
    "labels_tuple = zip(y_batch_predict, y_batch_true)\n",
    "labels = ['/'.join(t) for t in labels_tuple]\n",
    "\n",
    "errors = np.array(y_batch.argmax(axis=1)) - np.array(predictions.argmax(axis=1))\n",
    "\n",
    "error_idx = np.nonzero(errors)[0]\n",
    "\n",
    "if len(error_idx) > 0:\n",
    "    X_batch_error = X_batch[error_idx]\n",
    "    labels_error = [labels[idx] for idx in error_idx]\n",
    "    \n",
    "    rows = 1 + (len(error_idx) // 8)\n",
    "    \n",
    "    plots(X_batch_error, titles=labels_error, rows=rows, main_title=\"Wrong Predictions\")"
   ]
  },
  {
   "cell_type": "code",
   "execution_count": null,
   "metadata": {},
   "outputs": [],
   "source": []
  }
 ],
 "metadata": {
  "kernelspec": {
   "display_name": "Tensorflow 2 Alpha with Python 3.7",
   "language": "python",
   "name": "tf2_py3.7"
  },
  "language_info": {
   "codemirror_mode": {
    "name": "ipython",
    "version": 3
   },
   "file_extension": ".py",
   "mimetype": "text/x-python",
   "name": "python",
   "nbconvert_exporter": "python",
   "pygments_lexer": "ipython3",
   "version": "3.7.3"
  }
 },
 "nbformat": 4,
 "nbformat_minor": 2
}
